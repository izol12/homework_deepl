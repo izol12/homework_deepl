{
 "cells": [
  {
   "cell_type": "code",
   "execution_count": 4,
   "metadata": {},
   "outputs": [
    {
     "name": "stdout",
     "output_type": "stream",
     "text": [
      "The values of the red color\n",
      "[[0 0 0 ... 0 0 0]\n",
      " [0 0 0 ... 0 0 0]\n",
      " [0 0 0 ... 0 0 0]\n",
      " ...\n",
      " [0 0 0 ... 0 0 0]\n",
      " [0 0 0 ... 0 0 0]\n",
      " [0 0 0 ... 0 0 0]]\n",
      "The values of the green color\n",
      "[[0 0 0 ... 0 0 0]\n",
      " [0 0 0 ... 0 0 0]\n",
      " [0 0 0 ... 0 0 0]\n",
      " ...\n",
      " [0 0 0 ... 0 0 0]\n",
      " [0 0 0 ... 0 0 0]\n",
      " [0 0 0 ... 0 0 0]]\n",
      "The values of the blue color\n",
      "[[0 0 0 ... 0 0 0]\n",
      " [0 0 0 ... 0 0 0]\n",
      " [0 0 0 ... 0 0 0]\n",
      " ...\n",
      " [0 0 0 ... 0 0 0]\n",
      " [0 0 0 ... 0 0 0]\n",
      " [0 0 0 ... 0 0 0]]\n",
      "(32, 32)\n"
     ]
    },
    {
     "data": {
      "text/plain": [
       "127"
      ]
     },
     "execution_count": 4,
     "metadata": {},
     "output_type": "execute_result"
    },
    {
     "data": {
      "image/png": "[encoded data removed]",
      "text/plain": [
       "<Figure size 432x288 with 1 Axes>"
      ]
     },
     "metadata": {},
     "output_type": "display_data"
    }
   ],
   "source": [
    "#First_Homework\n",
    "\n",
    "# Python script to show the pictures and their RGB values\n",
    "\n",
    "# Import the libraries, that we need:\n",
    "from PIL import Image\n",
    "import numpy as np\n",
    "import matplotlib.pyplot as plt\n",
    "import matplotlib.image as mpimg\n",
    "\n",
    "# show the first pictures\n",
    "plt.imshow(mpimg.imread('add.png'))\n",
    "# Open our image\n",
    "im1 = Image.open(\"add.png\")\n",
    "# Open our image\n",
    "im1 = Image.open(\"add.png\")\n",
    " \n",
    "# Convert our image to RGB\n",
    "rgb_im = im1.convert('RGB')\n",
    " \n",
    "r1 = np.array(rgb_im)[:,:,0] # we can receive the red valaues of all pictures, so its a 32*32 matrix \n",
    "g1 = np.array(rgb_im)[:,:,1] # green\n",
    "b1 = np.array(rgb_im)[:,:,2] # blue\n",
    "\n",
    "print('The values of the red color')\n",
    "print(r1)\n",
    "print('The values of the green color')\n",
    "print(g1)\n",
    "print('The values of the blue color')\n",
    "print(b1)  # it is not always 0, only in the corners\n",
    "print (r1.shape) # just to show the dimenson\n",
    "r1[28,11]  # that pixel is not zero :)"
   ]
  },
  {
   "cell_type": "code",
   "execution_count": 5,
   "metadata": {},
   "outputs": [
    {
     "name": "stdout",
     "output_type": "stream",
     "text": [
      "The values of the red color\n",
      "[[0 0 0 ... 0 0 0]\n",
      " [0 0 0 ... 0 0 0]\n",
      " [0 0 0 ... 0 0 0]\n",
      " ...\n",
      " [0 0 0 ... 0 0 0]\n",
      " [0 0 0 ... 0 0 0]\n",
      " [0 0 0 ... 0 0 0]]\n",
      "The values of the green color\n",
      "[[0 0 0 ... 0 0 0]\n",
      " [0 0 0 ... 0 0 0]\n",
      " [0 0 0 ... 0 0 0]\n",
      " ...\n",
      " [0 0 0 ... 0 0 0]\n",
      " [0 0 0 ... 0 0 0]\n",
      " [0 0 0 ... 0 0 0]]\n",
      "The values of the blue color\n",
      "[[0 0 0 ... 0 0 0]\n",
      " [0 0 0 ... 0 0 0]\n",
      " [0 0 0 ... 0 0 0]\n",
      " ...\n",
      " [0 0 0 ... 0 0 0]\n",
      " [0 0 0 ... 0 0 0]\n",
      " [0 0 0 ... 0 0 0]]\n"
     ]
    },
    {
     "data": {
      "image/png": "[encoded data removed]",
      "text/plain": [
       "<Figure size 432x288 with 1 Axes>"
      ]
     },
     "metadata": {},
     "output_type": "display_data"
    }
   ],
   "source": [
    "# show the second pictures\n",
    "plt.imshow(mpimg.imread('ok.png'))\n",
    "# Open our image\n",
    "im2 = Image.open(\"ok.png\")\n",
    "# Open our image\n",
    "im2= Image.open(\"ok.png\")\n",
    " \n",
    "# Convert our image to RGB\n",
    "rgb_im2 = im2.convert('RGB')\n",
    " \n",
    "r2 = np.array(rgb_im2)[:,:,0] # we can receive the red, so its a 32*32 matrix \n",
    "g2 = np.array(rgb_im2)[:,:,1] # green\n",
    "b2 = np.array(rgb_im2)[:,:,2] # blue\n",
    "\n",
    "print('The values of the red color')\n",
    "print(r2)\n",
    "print('The values of the green color')\n",
    "print(g2)\n",
    "print('The values of the blue color')\n",
    "print(b2)  # it is not always 0, only in the corners\n"
   ]
  },
  {
   "cell_type": "code",
   "execution_count": 6,
   "metadata": {},
   "outputs": [
    {
     "name": "stdout",
     "output_type": "stream",
     "text": [
      "The values of the red color\n",
      "[[0 0 0 ... 0 0 0]\n",
      " [0 0 0 ... 0 0 0]\n",
      " [0 0 0 ... 0 0 0]\n",
      " ...\n",
      " [0 0 0 ... 0 0 0]\n",
      " [0 0 0 ... 0 0 0]\n",
      " [0 0 0 ... 0 0 0]]\n",
      "The values of the green color\n",
      "[[0 0 0 ... 0 0 0]\n",
      " [0 0 0 ... 0 0 0]\n",
      " [0 0 0 ... 0 0 0]\n",
      " ...\n",
      " [0 0 0 ... 0 0 0]\n",
      " [0 0 0 ... 0 0 0]\n",
      " [0 0 0 ... 0 0 0]]\n",
      "The values of the blue color\n",
      "[[0 0 0 ... 0 0 0]\n",
      " [0 0 0 ... 0 0 0]\n",
      " [0 0 0 ... 0 0 0]\n",
      " ...\n",
      " [0 0 0 ... 0 0 0]\n",
      " [0 0 0 ... 0 0 0]\n",
      " [0 0 0 ... 0 0 0]]\n"
     ]
    },
    {
     "data": {
      "image/png": "[encoded data removed]",
      "text/plain": [
       "<Figure size 432x288 with 1 Axes>"
      ]
     },
     "metadata": {},
     "output_type": "display_data"
    }
   ],
   "source": [
    "# show the third pictures\n",
    "plt.imshow(mpimg.imread('delete.png'))\n",
    "# Open our image\n",
    "im3 = Image.open(\"delete.png\")\n",
    "# Open our image\n",
    "im3 = Image.open(\"delete.png\")\n",
    " \n",
    "# Convert our image to RGB\n",
    "rgb_im3 = im3.convert('RGB')\n",
    " \n",
    "r3 = np.array(rgb_im3)[:,:,0] # we can receive the red valaues , so its a 32*32 matrix \n",
    "g3 = np.array(rgb_im3)[:,:,1] # green\n",
    "b3 = np.array(rgb_im3)[:,:,2] # blue\n",
    "\n",
    "print('The values of the red color')\n",
    "print(r3)\n",
    "print('The values of the green color')\n",
    "print(g3)\n",
    "print('The values of the blue color')\n",
    "print(b3)  # it is not always 0, only in the corners"
   ]
  },
  {
   "cell_type": "code",
   "execution_count": 7,
   "metadata": {},
   "outputs": [
    {
     "name": "stdout",
     "output_type": "stream",
     "text": [
      "The values of the red color\n",
      "[[0 0 0 ... 0 0 0]\n",
      " [0 0 0 ... 0 0 0]\n",
      " [0 0 0 ... 0 0 0]\n",
      " ...\n",
      " [0 0 0 ... 0 0 0]\n",
      " [0 0 0 ... 0 0 0]\n",
      " [0 0 0 ... 0 0 0]]\n",
      "The values of the green color\n",
      "[[0 0 0 ... 0 0 0]\n",
      " [0 0 0 ... 0 0 0]\n",
      " [0 0 0 ... 0 0 0]\n",
      " ...\n",
      " [0 0 0 ... 0 0 0]\n",
      " [0 0 0 ... 0 0 0]\n",
      " [0 0 0 ... 0 0 0]]\n",
      "The values of the blue color\n",
      "[[0 0 0 ... 0 0 0]\n",
      " [0 0 0 ... 0 0 0]\n",
      " [0 0 0 ... 0 0 0]\n",
      " ...\n",
      " [0 0 0 ... 0 0 0]\n",
      " [0 0 0 ... 0 0 0]\n",
      " [0 0 0 ... 0 0 0]]\n"
     ]
    },
    {
     "data": {
      "image/png": "[encoded data removed]",
      "text/plain": [
       "<Figure size 432x288 with 1 Axes>"
      ]
     },
     "metadata": {},
     "output_type": "display_data"
    }
   ],
   "source": [
    "# show the forth pictures\n",
    "plt.imshow(mpimg.imread('info.png'))\n",
    "# Open our image\n",
    "im4 = Image.open(\"info.png\")\n",
    "# Open our image\n",
    "im4 = Image.open(\"info.png\")\n",
    " \n",
    "# Convert our image to RGB\n",
    "rgb_im4 = im4.convert('RGB')\n",
    " \n",
    "r4 = np.array(rgb_im4)[:,:,0] # we can receive the red valaues , so its a 32*32 matrix \n",
    "g4 = np.array(rgb_im4)[:,:,1] # green\n",
    "b4 = np.array(rgb_im4)[:,:,2] # blue\n",
    "\n",
    "print('The values of the red color')\n",
    "print(r4)\n",
    "print('The values of the green color')\n",
    "print(g4)\n",
    "print('The values of the blue color')\n",
    "print(b4)  # it is not always 0, only in the corners"
   ]
  },
  {
   "cell_type": "code",
   "execution_count": 8,
   "metadata": {},
   "outputs": [
    {
     "name": "stdout",
     "output_type": "stream",
     "text": [
      "The values of the red color\n",
      "[[0 0 0 ... 0 0 0]\n",
      " [0 0 0 ... 0 0 0]\n",
      " [0 0 0 ... 0 0 0]\n",
      " ...\n",
      " [0 0 0 ... 0 0 0]\n",
      " [0 0 0 ... 0 0 0]\n",
      " [0 0 0 ... 0 0 0]]\n",
      "The values of the green color\n",
      "[[0 0 0 ... 0 0 0]\n",
      " [0 0 0 ... 0 0 0]\n",
      " [0 0 0 ... 0 0 0]\n",
      " ...\n",
      " [0 0 0 ... 0 0 0]\n",
      " [0 0 0 ... 0 0 0]\n",
      " [0 0 0 ... 0 0 0]]\n",
      "The values of the blue color\n",
      "[[0 0 0 ... 0 0 0]\n",
      " [0 0 0 ... 0 0 0]\n",
      " [0 0 0 ... 0 0 0]\n",
      " ...\n",
      " [0 0 0 ... 0 0 0]\n",
      " [0 0 0 ... 0 0 0]\n",
      " [0 0 0 ... 0 0 0]]\n"
     ]
    },
    {
     "data": {
      "image/png": "[encoded data removed]",
      "text/plain": [
       "<Figure size 432x288 with 1 Axes>"
      ]
     },
     "metadata": {},
     "output_type": "display_data"
    }
   ],
   "source": [
    "# show the fifth pictures\n",
    "plt.imshow(mpimg.imread('miss.png'))\n",
    "# Open our image\n",
    "im5 = Image.open(\"miss.png\")\n",
    "# Open our image\n",
    "im5 = Image.open(\"miss.png\")\n",
    " \n",
    "# Convert our image to RGB\n",
    "rgb_im5 = im5.convert('RGB')\n",
    " \n",
    "r5 = np.array(rgb_im5)[:,:,0] # we can receive the red valaues , so its a 32*32 matrix \n",
    "g5 = np.array(rgb_im5)[:,:,1] # green\n",
    "b5 = np.array(rgb_im5)[:,:,2] # blue\n",
    "\n",
    "print('The values of the red color')\n",
    "print(r5)\n",
    "print('The values of the green color')\n",
    "print(g5)\n",
    "print('The values of the blue color')\n",
    "print(b5)  # it is not always 0, only in the corners"
   ]
  },
  {
   "cell_type": "code",
   "execution_count": 13,
   "metadata": {},
   "outputs": [
    {
     "name": "stdout",
     "output_type": "stream",
     "text": [
      "83.74990753054851\n"
     ]
    }
   ],
   "source": [
    "#Next excercise: mean and deviation of the pixels in R,G,B:\n",
    "\n",
    "# So now we we make 3 matrices for R,G,B from the five picture:\n",
    "\n",
    "matrix_total_R = r1+r2+r3+r4+r5\n",
    "matrix_total_G = g1+g2+g3+g4+g5\n",
    "matrix_total_B = b1+b2+b3+b4+b5\n",
    "\n",
    "#Now we can calculate the mean, and deviation for the 3 chanels\n",
    "mean_R = np.mean (matrix_total_R)\n",
    "std_R = np.std (matrix_total_R)\n",
    "\n",
    "mean_G = np.mean (matrix_total_G)\n",
    "std_G = np.std (matrix_total_G)\n",
    "\n",
    "mean_B = np.mean (matrix_total_B)\n",
    "std_B = np.std (matrix_total_B)\n",
    "\n",
    "# After that, we have to \n",
    "\n",
    "print(std_R)\n",
    "\n",
    "\n",
    "\n",
    "\n",
    "\n"
   ]
  },
  {
   "cell_type": "code",
   "execution_count": 14,
   "metadata": {},
   "outputs": [
    {
     "ename": "SyntaxError",
     "evalue": "invalid syntax (<ipython-input-14-069db7659354>, line 3)",
     "output_type": "error",
     "traceback": [
      "\u001b[1;36m  File \u001b[1;32m\"<ipython-input-14-069db7659354>\"\u001b[1;36m, line \u001b[1;32m3\u001b[0m\n\u001b[1;33m    dir(requests) get, text változó, végigiterálás\u001b[0m\n\u001b[1;37m                    ^\u001b[0m\n\u001b[1;31mSyntaxError\u001b[0m\u001b[1;31m:\u001b[0m invalid syntax\n"
     ]
    }
   ],
   "source": [
    "import requests\n",
    "\n",
    "dir(requests) get, text változó, végigiterálás"
   ]
  },
  {
   "cell_type": "code",
   "execution_count": null,
   "metadata": {},
   "outputs": [],
   "source": []
  }
 ],
 "metadata": {
  "kernelspec": {
   "display_name": "Python 3",
   "language": "python",
   "name": "python3"
  },
  "language_info": {
   "codemirror_mode": {
    "name": "ipython",
    "version": 3
   },
   "file_extension": ".py",
   "mimetype": "text/x-python",
   "name": "python",
   "nbconvert_exporter": "python",
   "pygments_lexer": "ipython3",
   "version": "3.6.5"
  }
 },
 "nbformat": 4,
 "nbformat_minor": 2
}
